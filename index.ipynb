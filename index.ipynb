{
 "cells": [
  {
   "cell_type": "markdown",
   "metadata": {},
   "source": [
    "# In Depth A/B Testing - Lab\n",
    "\n",
    "## Introduction\n",
    "\n",
    "In this lab, you'll explore a survey from Kaggle regarding budding data scientists. With this, you'll form some initial hypotheses, and test them using the tools you've acquired to date. \n",
    "\n",
    "## Objectives\n",
    "\n",
    "You will be able to:\n",
    "* Conduct t-tests and an ANOVA on a real-world dataset and interpret the results"
   ]
  },
  {
   "cell_type": "markdown",
   "metadata": {},
   "source": [
    "## Load the Dataset and Perform a Brief Exploration\n",
    "\n",
    "The data is stored in a file called **multipleChoiceResponses_cleaned.csv**. Feel free to check out the original dataset referenced at the bottom of this lab, although this cleaned version will undoubtedly be easier to work with. Additionally, meta-data regarding the questions is stored in a file name **schema.csv**. Load in the data itself as a Pandas DataFrame, and take a moment to briefly get acquainted with it.\n",
    "\n",
    "> Note: If you can't get the file to load properly, try changing the encoding format as in `encoding='latin1'`"
   ]
  },
  {
   "cell_type": "code",
   "execution_count": 40,
   "metadata": {},
   "outputs": [
    {
     "name": "stderr",
     "output_type": "stream",
     "text": [
      "C:\\ProgramData\\Anaconda3\\lib\\site-packages\\IPython\\core\\interactiveshell.py:3058: DtypeWarning: Columns (1,2,3,4,5,6,7,8,9,10,11,12,13,14,15,16,17,18,19,20,21,22,23,24,25,26,27,28,29,30,31,32,33,34,35,36,37,38,39,40,41,42,43,44,45,46,47,48,49,50,51,52,53,54,55,56,57,58,65,66,67,68,69,70,71,72,73,74,75,76,77,78,79,80,81,82,83,84,85,86,87,88,89,90,91,92,93,94,95,96,97,98,99,100,101,102,103,104,105,106,107,108,109,110,111,112,113,114,115,116,117,118,119,120,121,122,123,124,125,126,127,128,129,130,131,132,133,134,135,136,137,138,139,140,141,142,143,144,145,146,147,148,149,150,151,152,153,154,155,156,157,158,159,160,161,162,163,164,165,172,173,174,175,176,177,178,179,180,181,182,183,184,185,186,187,188,189,190,191,192,193,194,195,196,197,198,199,200,201,202,203,204,205,207,208,209,210,211,212,213,214,215,216,217,218,219,220,221,222,223,224,225,226,227) have mixed types. Specify dtype option on import or set low_memory=False.\n",
      "  interactivity=interactivity, compiler=compiler, result=result)\n"
     ]
    }
   ],
   "source": [
    "import matplotlib.pyplot as plt\n",
    "import numpy as np\n",
    "import pandas as pd\n",
    "plt.style.use('ggplot')\n",
    "\n",
    "df = pd.read_csv('multipleChoiceResponses_cleaned.csv', encoding='latin1', \n",
    "                 dtype = {'AdjustedCompensation': np.float64})\n",
    "meta = pd.read_csv('schema.csv')"
   ]
  },
  {
   "cell_type": "code",
   "execution_count": 41,
   "metadata": {},
   "outputs": [
    {
     "data": {
      "text/html": [
       "<div>\n",
       "<style scoped>\n",
       "    .dataframe tbody tr th:only-of-type {\n",
       "        vertical-align: middle;\n",
       "    }\n",
       "\n",
       "    .dataframe tbody tr th {\n",
       "        vertical-align: top;\n",
       "    }\n",
       "\n",
       "    .dataframe thead th {\n",
       "        text-align: right;\n",
       "    }\n",
       "</style>\n",
       "<table border=\"1\" class=\"dataframe\">\n",
       "  <thead>\n",
       "    <tr style=\"text-align: right;\">\n",
       "      <th></th>\n",
       "      <th>GenderSelect</th>\n",
       "      <th>Country</th>\n",
       "      <th>Age</th>\n",
       "      <th>EmploymentStatus</th>\n",
       "      <th>StudentStatus</th>\n",
       "      <th>LearningDataScience</th>\n",
       "      <th>CodeWriter</th>\n",
       "      <th>CareerSwitcher</th>\n",
       "      <th>CurrentJobTitleSelect</th>\n",
       "      <th>TitleFit</th>\n",
       "      <th>...</th>\n",
       "      <th>JobFactorTitle</th>\n",
       "      <th>JobFactorCompanyFunding</th>\n",
       "      <th>JobFactorImpact</th>\n",
       "      <th>JobFactorRemote</th>\n",
       "      <th>JobFactorIndustry</th>\n",
       "      <th>JobFactorLeaderReputation</th>\n",
       "      <th>JobFactorDiversity</th>\n",
       "      <th>JobFactorPublishingOpportunity</th>\n",
       "      <th>exchangeRate</th>\n",
       "      <th>AdjustedCompensation</th>\n",
       "    </tr>\n",
       "  </thead>\n",
       "  <tbody>\n",
       "    <tr>\n",
       "      <td>0</td>\n",
       "      <td>Non-binary, genderqueer, or gender non-conforming</td>\n",
       "      <td>NaN</td>\n",
       "      <td>NaN</td>\n",
       "      <td>Employed full-time</td>\n",
       "      <td>NaN</td>\n",
       "      <td>NaN</td>\n",
       "      <td>Yes</td>\n",
       "      <td>NaN</td>\n",
       "      <td>DBA/Database Engineer</td>\n",
       "      <td>Fine</td>\n",
       "      <td>...</td>\n",
       "      <td>NaN</td>\n",
       "      <td>NaN</td>\n",
       "      <td>NaN</td>\n",
       "      <td>NaN</td>\n",
       "      <td>NaN</td>\n",
       "      <td>NaN</td>\n",
       "      <td>NaN</td>\n",
       "      <td>NaN</td>\n",
       "      <td>NaN</td>\n",
       "      <td>NaN</td>\n",
       "    </tr>\n",
       "    <tr>\n",
       "      <td>1</td>\n",
       "      <td>Female</td>\n",
       "      <td>United States</td>\n",
       "      <td>30.0</td>\n",
       "      <td>Not employed, but looking for work</td>\n",
       "      <td>NaN</td>\n",
       "      <td>NaN</td>\n",
       "      <td>NaN</td>\n",
       "      <td>NaN</td>\n",
       "      <td>NaN</td>\n",
       "      <td>NaN</td>\n",
       "      <td>...</td>\n",
       "      <td>NaN</td>\n",
       "      <td>NaN</td>\n",
       "      <td>NaN</td>\n",
       "      <td>NaN</td>\n",
       "      <td>NaN</td>\n",
       "      <td>Somewhat important</td>\n",
       "      <td>NaN</td>\n",
       "      <td>NaN</td>\n",
       "      <td>NaN</td>\n",
       "      <td>NaN</td>\n",
       "    </tr>\n",
       "    <tr>\n",
       "      <td>2</td>\n",
       "      <td>Male</td>\n",
       "      <td>Canada</td>\n",
       "      <td>28.0</td>\n",
       "      <td>Not employed, but looking for work</td>\n",
       "      <td>NaN</td>\n",
       "      <td>NaN</td>\n",
       "      <td>NaN</td>\n",
       "      <td>NaN</td>\n",
       "      <td>NaN</td>\n",
       "      <td>NaN</td>\n",
       "      <td>...</td>\n",
       "      <td>Very Important</td>\n",
       "      <td>Very Important</td>\n",
       "      <td>Very Important</td>\n",
       "      <td>Very Important</td>\n",
       "      <td>Very Important</td>\n",
       "      <td>Very Important</td>\n",
       "      <td>Very Important</td>\n",
       "      <td>Very Important</td>\n",
       "      <td>NaN</td>\n",
       "      <td>NaN</td>\n",
       "    </tr>\n",
       "    <tr>\n",
       "      <td>3</td>\n",
       "      <td>Male</td>\n",
       "      <td>United States</td>\n",
       "      <td>56.0</td>\n",
       "      <td>Independent contractor, freelancer, or self-em...</td>\n",
       "      <td>NaN</td>\n",
       "      <td>NaN</td>\n",
       "      <td>Yes</td>\n",
       "      <td>NaN</td>\n",
       "      <td>Operations Research Practitioner</td>\n",
       "      <td>Poorly</td>\n",
       "      <td>...</td>\n",
       "      <td>NaN</td>\n",
       "      <td>NaN</td>\n",
       "      <td>NaN</td>\n",
       "      <td>NaN</td>\n",
       "      <td>NaN</td>\n",
       "      <td>NaN</td>\n",
       "      <td>NaN</td>\n",
       "      <td>NaN</td>\n",
       "      <td>1.0</td>\n",
       "      <td>250000.0</td>\n",
       "    </tr>\n",
       "    <tr>\n",
       "      <td>4</td>\n",
       "      <td>Male</td>\n",
       "      <td>Taiwan</td>\n",
       "      <td>38.0</td>\n",
       "      <td>Employed full-time</td>\n",
       "      <td>NaN</td>\n",
       "      <td>NaN</td>\n",
       "      <td>Yes</td>\n",
       "      <td>NaN</td>\n",
       "      <td>Computer Scientist</td>\n",
       "      <td>Fine</td>\n",
       "      <td>...</td>\n",
       "      <td>NaN</td>\n",
       "      <td>NaN</td>\n",
       "      <td>NaN</td>\n",
       "      <td>NaN</td>\n",
       "      <td>NaN</td>\n",
       "      <td>NaN</td>\n",
       "      <td>NaN</td>\n",
       "      <td>NaN</td>\n",
       "      <td>NaN</td>\n",
       "      <td>NaN</td>\n",
       "    </tr>\n",
       "  </tbody>\n",
       "</table>\n",
       "<p>5 rows × 230 columns</p>\n",
       "</div>"
      ],
      "text/plain": [
       "                                        GenderSelect        Country   Age  \\\n",
       "0  Non-binary, genderqueer, or gender non-conforming            NaN   NaN   \n",
       "1                                             Female  United States  30.0   \n",
       "2                                               Male         Canada  28.0   \n",
       "3                                               Male  United States  56.0   \n",
       "4                                               Male         Taiwan  38.0   \n",
       "\n",
       "                                    EmploymentStatus StudentStatus  \\\n",
       "0                                 Employed full-time           NaN   \n",
       "1                 Not employed, but looking for work           NaN   \n",
       "2                 Not employed, but looking for work           NaN   \n",
       "3  Independent contractor, freelancer, or self-em...           NaN   \n",
       "4                                 Employed full-time           NaN   \n",
       "\n",
       "  LearningDataScience CodeWriter CareerSwitcher  \\\n",
       "0                 NaN        Yes            NaN   \n",
       "1                 NaN        NaN            NaN   \n",
       "2                 NaN        NaN            NaN   \n",
       "3                 NaN        Yes            NaN   \n",
       "4                 NaN        Yes            NaN   \n",
       "\n",
       "              CurrentJobTitleSelect TitleFit  ...  JobFactorTitle  \\\n",
       "0             DBA/Database Engineer     Fine  ...             NaN   \n",
       "1                               NaN      NaN  ...             NaN   \n",
       "2                               NaN      NaN  ...  Very Important   \n",
       "3  Operations Research Practitioner   Poorly  ...             NaN   \n",
       "4                Computer Scientist     Fine  ...             NaN   \n",
       "\n",
       "  JobFactorCompanyFunding JobFactorImpact JobFactorRemote JobFactorIndustry  \\\n",
       "0                     NaN             NaN             NaN               NaN   \n",
       "1                     NaN             NaN             NaN               NaN   \n",
       "2          Very Important  Very Important  Very Important    Very Important   \n",
       "3                     NaN             NaN             NaN               NaN   \n",
       "4                     NaN             NaN             NaN               NaN   \n",
       "\n",
       "  JobFactorLeaderReputation JobFactorDiversity JobFactorPublishingOpportunity  \\\n",
       "0                       NaN                NaN                            NaN   \n",
       "1        Somewhat important                NaN                            NaN   \n",
       "2            Very Important     Very Important                 Very Important   \n",
       "3                       NaN                NaN                            NaN   \n",
       "4                       NaN                NaN                            NaN   \n",
       "\n",
       "  exchangeRate AdjustedCompensation  \n",
       "0          NaN                  NaN  \n",
       "1          NaN                  NaN  \n",
       "2          NaN                  NaN  \n",
       "3          1.0             250000.0  \n",
       "4          NaN                  NaN  \n",
       "\n",
       "[5 rows x 230 columns]"
      ]
     },
     "execution_count": 41,
     "metadata": {},
     "output_type": "execute_result"
    }
   ],
   "source": [
    "# A look at the dataframe, we can see that NaN values will be a problem in many columns\n",
    "# including the AdjustedCompensation column\n",
    "df.head()"
   ]
  },
  {
   "cell_type": "code",
   "execution_count": 12,
   "metadata": {},
   "outputs": [
    {
     "name": "stdout",
     "output_type": "stream",
     "text": [
      "<class 'pandas.core.frame.DataFrame'>\n",
      "RangeIndex: 290 entries, 0 to 289\n",
      "Data columns (total 3 columns):\n",
      "Column      290 non-null object\n",
      "Question    290 non-null object\n",
      "Asked       290 non-null object\n",
      "dtypes: object(3)\n",
      "memory usage: 6.9+ KB\n"
     ]
    }
   ],
   "source": [
    "meta.info()"
   ]
  },
  {
   "cell_type": "code",
   "execution_count": null,
   "metadata": {},
   "outputs": [],
   "source": [
    "import pprint"
   ]
  },
  {
   "cell_type": "code",
   "execution_count": 15,
   "metadata": {},
   "outputs": [
    {
     "name": "stdout",
     "output_type": "stream",
     "text": [
      "Number of Columns:  290\n",
      "['GenderSelect',\n",
      " 'GenderFreeForm',\n",
      " 'Country',\n",
      " 'Age',\n",
      " 'EmploymentStatus',\n",
      " 'StudentStatus',\n",
      " 'LearningDataScience',\n",
      " 'KaggleMotivationFreeForm',\n",
      " 'CodeWriter',\n",
      " 'CareerSwitcher',\n",
      " 'CurrentJobTitleSelect',\n",
      " 'CurrentJobTitleFreeForm',\n",
      " 'TitleFit',\n",
      " 'CurrentEmployerType',\n",
      " 'MLToolNextYearSelect',\n",
      " 'MLToolNextYearFreeForm',\n",
      " 'MLMethodNextYearSelect',\n",
      " 'MLMethodNextYearFreeForm',\n",
      " 'LanguageRecommendationSelect',\n",
      " 'LanguageRecommendationFreeForm',\n",
      " 'PublicDatasetsSelect',\n",
      " 'PublicDatasetsFreeForm',\n",
      " 'PersonalProjectsChallengeFreeForm',\n",
      " 'LearningPlatformSelect',\n",
      " 'LearningPlatformCommunityFreeForm',\n",
      " 'LearningPlatformFreeForm1',\n",
      " 'LearningPlatformFreeForm2',\n",
      " 'LearningPlatformFreeForm3',\n",
      " 'LearningPlatformUsefulnessArxiv',\n",
      " 'LearningPlatformUsefulnessBlogs',\n",
      " 'LearningPlatformUsefulnessCollege',\n",
      " 'LearningPlatformUsefulnessCompany',\n",
      " 'LearningPlatformUsefulnessConferences',\n",
      " 'LearningPlatformUsefulnessFriends',\n",
      " 'LearningPlatformUsefulnessKaggle',\n",
      " 'LearningPlatformUsefulnessNewsletters',\n",
      " 'LearningPlatformUsefulnessCommunities',\n",
      " 'LearningPlatformUsefulnessCommunitiesFreeForm',\n",
      " 'LearningPlatformUsefulnessDocumentation',\n",
      " 'LearningPlatformUsefulnessCourses',\n",
      " 'LearningPlatformUsefulnessProjects',\n",
      " 'LearningPlatformUsefulnessPodcasts',\n",
      " 'LearningPlatformUsefulnessSO',\n",
      " 'LearningPlatformUsefulnessTextbook',\n",
      " 'LearningPlatformUsefulnessTradeBook',\n",
      " 'LearningPlatformUsefulnessTutoring',\n",
      " 'LearningPlatformUsefulnessYouTube',\n",
      " 'LearningPlatformUsefulnessFreeForm1Select',\n",
      " 'LearningPlatformUsefulnessFreeForm1SelectFreeForm',\n",
      " 'LearningPlatformUsefulnessFreeForm2Select',\n",
      " 'LearningPlatformUsefulnessFreeForm2SelectFreeForm',\n",
      " 'LearningPlatformUsefulnessFreeForm3Select',\n",
      " 'LearningPlatformUsefulnessFreeForm3SelectFreeForm',\n",
      " 'BlogsPodcastsNewslettersSelect',\n",
      " 'BlogsPodcastsNewslettersFreeForm',\n",
      " 'LearningDataScienceTime',\n",
      " 'JobSkillImportanceBigData',\n",
      " 'JobSkillImportanceDegree',\n",
      " 'JobSkillImportanceStats',\n",
      " 'JobSkillImportanceEnterpriseTools',\n",
      " 'JobSkillImportancePython',\n",
      " 'JobSkillImportanceR',\n",
      " 'JobSkillImportanceSQL',\n",
      " 'JobSkillImportanceKaggleRanking',\n",
      " 'JobSkillImportanceMOOC',\n",
      " 'JobSkillImportanceVisualizations',\n",
      " 'JobSkillImportanceOtherSelect1',\n",
      " 'JobSkillImportanceOtherSelect1FreeForm',\n",
      " 'JobSkillImportanceOtherSelect2',\n",
      " 'JobSkillImportanceOtherSelect2FreeForm',\n",
      " 'JobSkillImportanceOtherSelect3',\n",
      " 'JobSkillImportanceOtherSelect3FreeForm',\n",
      " 'CoursePlatformSelect',\n",
      " 'CoursePlatformFreeForm',\n",
      " 'HardwarePersonalProjectsSelect',\n",
      " 'HardwarePersonalProjectsFreeForm',\n",
      " 'TimeSpentStudying',\n",
      " 'ProveKnowledgeSelect',\n",
      " 'ProveKnowledgeFreeForm',\n",
      " 'ImpactfulAlgorithmFreeForm',\n",
      " 'InterestingProblemFreeForm',\n",
      " 'DataScienceIdentitySelect',\n",
      " 'DataScienceIdentityFreeForm',\n",
      " 'FormalEducation',\n",
      " 'MajorSelect',\n",
      " 'MajorFreeForm',\n",
      " 'Tenure',\n",
      " 'PastJobTitlesSelect',\n",
      " 'PastJobTitlesFreeForm',\n",
      " 'FirstTrainingSelect',\n",
      " 'FirstTrainingFreeForm',\n",
      " 'LearningCategorySelftTaught',\n",
      " 'LearningCategoryOnlineCourses',\n",
      " 'LearningCategoryWork',\n",
      " 'LearningCategoryUniversity',\n",
      " 'LearningCategoryKaggle',\n",
      " 'LearningCategoryOther',\n",
      " 'LearningCategoryOtherFreeForm',\n",
      " 'MLSkillsSelect',\n",
      " 'MLSkillsFreeForm',\n",
      " 'MLTechniquesSelect',\n",
      " 'MLTechniquesFreeform',\n",
      " 'ParentsEducation',\n",
      " 'EmployerIndustry',\n",
      " 'EmployerIndustryOtherFreeForm',\n",
      " 'EmployerSize',\n",
      " 'EmployerSizeChange',\n",
      " 'EmployerMLTime',\n",
      " 'EmployerSearchMethod',\n",
      " 'EmployerSearchMethodOtherFreeForm',\n",
      " 'UniversityImportance',\n",
      " 'JobFunctionSelect',\n",
      " 'JobFunctionFreeForm',\n",
      " 'WorkHardwareSelect',\n",
      " 'WorkHardwareFreeForm',\n",
      " 'WorkDataTypeSelect',\n",
      " 'WorkDataTypeFreeForm',\n",
      " 'WorkProductionFrequency',\n",
      " 'WorkLibrariesFreeForm',\n",
      " 'WorkDatasetSize',\n",
      " 'WorkAlgorithmsSelect',\n",
      " 'WorkAlgorithmsFreeForm',\n",
      " 'WorkToolsSelect',\n",
      " 'WorkToolsFreeForm1',\n",
      " 'WorkToolsFreeForm2',\n",
      " 'WorkToolsFreeForm3',\n",
      " 'WorkToolsFrequencyAmazonML',\n",
      " 'WorkToolsFrequencyAWS',\n",
      " 'WorkToolsFrequencyAngoss',\n",
      " 'WorkToolsFrequencyC',\n",
      " 'WorkToolsFrequencyCloudera',\n",
      " 'WorkToolsFrequencyDataRobot',\n",
      " 'WorkToolsFrequencyFlume',\n",
      " 'WorkToolsFrequencyGCP',\n",
      " 'WorkToolsFrequencyHadoop',\n",
      " 'WorkToolsFrequencyIBMCognos',\n",
      " 'WorkToolsFrequencyIBMSPSSModeler',\n",
      " 'WorkToolsFrequencyIBMSPSSStatistics',\n",
      " 'WorkToolsFrequencyIBMWatson',\n",
      " 'WorkToolsFrequencyImpala',\n",
      " 'WorkToolsFrequencyJava',\n",
      " 'WorkToolsFrequencyJulia',\n",
      " 'WorkToolsFrequencyJupyter',\n",
      " 'WorkToolsFrequencyKNIMECommercial',\n",
      " 'WorkToolsFrequencyKNIMEFree',\n",
      " 'WorkToolsFrequencyMathematica',\n",
      " 'WorkToolsFrequencyMATLAB',\n",
      " 'WorkToolsFrequencyAzure',\n",
      " 'WorkToolsFrequencyExcel',\n",
      " 'WorkToolsFrequencyMicrosoftRServer',\n",
      " 'WorkToolsFrequencyMicrosoftSQL',\n",
      " 'WorkToolsFrequencyMinitab',\n",
      " 'WorkToolsFrequencyNoSQL',\n",
      " 'WorkToolsFrequencyOracle',\n",
      " 'WorkToolsFrequencyOrange',\n",
      " 'WorkToolsFrequencyPerl',\n",
      " 'WorkToolsFrequencyPython',\n",
      " 'WorkToolsFrequencyQlik',\n",
      " 'WorkToolsFrequencyR',\n",
      " 'WorkToolsFrequencyRapidMinerCommercial',\n",
      " 'WorkToolsFrequencyRapidMinerFree',\n",
      " 'WorkToolsFrequencySalfrod',\n",
      " 'WorkToolsFrequencySAPBusinessObjects',\n",
      " 'WorkToolsFrequencySASBase',\n",
      " 'WorkToolsFrequencySASEnterprise',\n",
      " 'WorkToolsFrequencySASJMP',\n",
      " 'WorkToolsFrequencySpark',\n",
      " 'WorkToolsFrequencySQL',\n",
      " 'WorkToolsFrequencyStan',\n",
      " 'WorkToolsFrequencyStatistica',\n",
      " 'WorkToolsFrequencyTableau',\n",
      " 'WorkToolsFrequencyTensorFlow',\n",
      " 'WorkToolsFrequencyTIBCO',\n",
      " 'WorkToolsFrequencyUnix',\n",
      " 'WorkToolsFrequencySelect1',\n",
      " 'WorkToolsFrequencySelect1FreeForm',\n",
      " 'WorkToolsFrequencySelect2',\n",
      " 'WorkFrequencySelect2FreeForm',\n",
      " 'WorkFrequencySelect3',\n",
      " 'WorkFrequencySelect3FreeForm',\n",
      " 'WorkMethodsSelect',\n",
      " 'WorkMethodsFreeForm1',\n",
      " 'WorkMethodsFreeForm2',\n",
      " 'WorkMethodsFreeForm3',\n",
      " 'WorkMethodsFrequencyA/B',\n",
      " 'WorkMethodsFrequencyAssociationRules',\n",
      " 'WorkMethodsFrequencyBayesian',\n",
      " 'WorkMethodsFrequencyCNNs',\n",
      " 'WorkMethodsFrequencyCollaborativeFiltering',\n",
      " 'WorkMethodsFrequencyCross-Validation',\n",
      " 'WorkMethodsFrequencyDataVisualization',\n",
      " 'WorkMethodsFrequencyDecisionTrees',\n",
      " 'WorkMethodsFrequencyEnsembleMethods',\n",
      " 'WorkMethodsFrequencyEvolutionaryApproaches',\n",
      " 'WorkMethodsFrequencyGANs',\n",
      " 'WorkMethodsFrequencyGBM',\n",
      " 'WorkMethodsFrequencyHMMs',\n",
      " 'WorkMethodsFrequencyKNN',\n",
      " 'WorkMethodsFrequencyLiftAnalysis',\n",
      " 'WorkMethodsFrequencyLogisticRegression',\n",
      " 'WorkMethodsFrequencyMLN',\n",
      " 'WorkMethodsFrequencyNaiveBayes',\n",
      " 'WorkMethodsFrequencyNLP',\n",
      " 'WorkMethodsFrequencyNeuralNetworks',\n",
      " 'WorkMethodsFrequencyPCA',\n",
      " 'WorkMethodsFrequencyPrescriptiveModeling',\n",
      " 'WorkMethodsFrequencyRandomForests',\n",
      " 'WorkMethodsFrequencyRecommenderSystems',\n",
      " 'WorkMethodsFrequencyRNNs',\n",
      " 'WorkMethodsFrequencySegmentation',\n",
      " 'WorkMethodsFrequencySimulation',\n",
      " 'WorkMethodsFrequencySVMs',\n",
      " 'WorkMethodsFrequencyTextAnalysis',\n",
      " 'WorkMethodsFrequencyTimeSeriesAnalysis',\n",
      " 'WorkMethodsFrequencySelect1',\n",
      " 'WorkMethodsFrequencySelect1FreeForm',\n",
      " 'WorkMethodsFrequencySelect2',\n",
      " 'WorkMethodsFrequencySelect2FreeForm',\n",
      " 'WorkMethodsFrequencySelect3',\n",
      " 'WorkMethodsFrequencySelect3FreeForm',\n",
      " 'TimeGatheringData',\n",
      " 'TimeModelBuilding',\n",
      " 'TimeProduction',\n",
      " 'TimeVisualizing',\n",
      " 'TimeFindingInsights',\n",
      " 'TimeOtherSelect',\n",
      " 'TimeOtherSelectFreeForm',\n",
      " 'AlgorithmUnderstandingLevel',\n",
      " 'WorkChallengesSelect',\n",
      " 'WorkChallengesFreeForm',\n",
      " 'WorkChallengeFrequencyPolitics',\n",
      " 'WorkChallengeFrequencyUnusedResults',\n",
      " 'WorkChallengeFrequencyUnusefulInstrumenting',\n",
      " 'WorkChallengeFrequencyDeployment',\n",
      " 'WorkChallengeFrequencyDirtyData',\n",
      " 'WorkChallengeFrequencyExplaining',\n",
      " 'WorkChallengeFrequencyPass',\n",
      " 'WorkChallengeFrequencyIntegration',\n",
      " 'WorkChallengeFrequencyTalent',\n",
      " 'WorkChallengeFrequencyDataFunds',\n",
      " 'WorkChallengeFrequencyDomainExpertise',\n",
      " 'WorkChallengeFrequencyML',\n",
      " 'WorkChallengeFrequencyTools',\n",
      " 'WorkChallengeFrequencyExpectations',\n",
      " 'WorkChallengeFrequencyITCoordination',\n",
      " 'WorkChallengeFrequencyHiringFunds',\n",
      " 'WorkChallengeFrequencyPrivacy',\n",
      " 'WorkChallengeFrequencyScaling',\n",
      " 'WorkChallengeFrequencyEnvironments',\n",
      " 'WorkChallengeFrequencyClarity',\n",
      " 'WorkChallengeFrequencyDataAccess',\n",
      " 'WorkChallengeFrequencyOtherSelect',\n",
      " 'WorkChallengeFrequencyOtherFreeForm',\n",
      " 'WorkDataVisualizations',\n",
      " 'WorkInternalVsExternalTools',\n",
      " 'WorkMLTeamSeatSelect',\n",
      " 'WorkMLTeamSeatFreeForm',\n",
      " 'WorkDatasets',\n",
      " 'WorkDatasetsChallenge',\n",
      " 'WorkDataStorage',\n",
      " 'WorkDataStorageFreeForm',\n",
      " 'WorkDataSharing',\n",
      " 'WorkDataSourcing',\n",
      " 'WorkCodeSharing',\n",
      " 'WorkCodeSharingFreeForm',\n",
      " 'RemoteWork',\n",
      " 'CompensationAmount',\n",
      " 'CompensationCurrency',\n",
      " 'SalaryChange',\n",
      " 'SalaryChangeFreeForm',\n",
      " 'JobSatisfaction',\n",
      " 'JobSearchResource',\n",
      " 'JobSearchResourceFreeForm',\n",
      " 'JobHuntTime',\n",
      " 'JobFactorLearning',\n",
      " 'JobFactorSalary',\n",
      " 'JobFactorOffice',\n",
      " 'JobFactorLanguages',\n",
      " 'JobFactorCommute',\n",
      " 'JobFactorManagement',\n",
      " 'JobFactorExperienceLevel',\n",
      " 'JobFactorDepartment',\n",
      " 'JobFactorTitle',\n",
      " 'JobFactorCompanyFunding',\n",
      " 'JobFactorImpact',\n",
      " 'JobFactorRemote',\n",
      " 'JobFactorIndustry',\n",
      " 'JobFactorLeaderReputation',\n",
      " 'JobFactorDiversity',\n",
      " 'JobFactorPublishingOpportunity']\n"
     ]
    }
   ],
   "source": [
    "print('Number of Columns: ', len(meta))\n",
    "pprint.pprint(list(meta.Column))"
   ]
  },
  {
   "cell_type": "code",
   "execution_count": 25,
   "metadata": {},
   "outputs": [
    {
     "name": "stdout",
     "output_type": "stream",
     "text": [
      "Number of Columns in cleaned dataset: 230\n"
     ]
    }
   ],
   "source": [
    "print('Number of Columns in cleaned dataset:', len(df.columns))"
   ]
  },
  {
   "cell_type": "markdown",
   "metadata": {},
   "source": [
    "We can see that there are different amounts of columns in the cleaned dataset vs the original. I can see that there is no AdjustedCompensation feature in the original dataset, but rather a 'CompensationAmount' feature and 'Compensation Currency' feature, which were likely combined into a single, easier to understand feature for the cleaned dataset."
   ]
  },
  {
   "cell_type": "code",
   "execution_count": 48,
   "metadata": {},
   "outputs": [
    {
     "name": "stdout",
     "output_type": "stream",
     "text": [
      "             Column                                           Question Asked\n",
      "83  FormalEducation  Which level of formal education have you attai...   All\n"
     ]
    }
   ],
   "source": [
    "pprint.pprint(meta.loc[meta.Column == 'FormalEducation'])"
   ]
  },
  {
   "cell_type": "markdown",
   "metadata": {},
   "source": [
    "## Wages and Education\n",
    "\n",
    "You've been asked to determine whether education is impactful to salary. Develop a hypothesis test to compare the salaries of those with Master's degrees to those with Bachelor's degrees. Are the two statistically different according to your results?\n",
    "\n",
    "> Note: The relevant features are stored in the 'FormalEducation' and 'AdjustedCompensation' features.\n",
    "\n",
    "You may import the functions stored in the `flatiron_stats.py` file to help perform your hypothesis tests. It contains the stats functions that you previously coded: `welch_t(a,b)`, `welch_df(a, b)`, and `p_value(a, b, two_sided=False)`. \n",
    "\n",
    "Note that `scipy.stats.ttest_ind(a, b, equal_var=False)` performs a two-sided Welch's t-test and that p-values derived from two-sided tests are two times the p-values derived from one-sided tests. See the [documentation](https://docs.scipy.org/doc/scipy/reference/generated/scipy.stats.ttest_ind.html) for more information.    "
   ]
  },
  {
   "cell_type": "code",
   "execution_count": 16,
   "metadata": {},
   "outputs": [
    {
     "data": {
      "text/plain": [
       "Master's degree                                                      8204\n",
       "Bachelor's degree                                                    4811\n",
       "Doctoral degree                                                      3543\n",
       "Some college/university study without earning a bachelor's degree     786\n",
       "Professional degree                                                   451\n",
       "I did not complete any formal education past high school              257\n",
       "I prefer not to answer                                                 90\n",
       "Name: FormalEducation, dtype: int64"
      ]
     },
     "execution_count": 16,
     "metadata": {},
     "output_type": "execute_result"
    }
   ],
   "source": [
    "df.FormalEducation.value_counts()"
   ]
  },
  {
   "cell_type": "code",
   "execution_count": 111,
   "metadata": {},
   "outputs": [
    {
     "data": {
      "text/plain": [
       "<matplotlib.axes._subplots.AxesSubplot at 0x26d11028f48>"
      ]
     },
     "execution_count": 111,
     "metadata": {},
     "output_type": "execute_result"
    },
    {
     "data": {
      "image/png": "[encoded data removed]",
      "text/plain": [
       "<Figure size 432x288 with 1 Axes>"
      ]
     },
     "metadata": {},
     "output_type": "display_data"
    }
   ],
   "source": [
    "# Visualizing Adjusted Compensation feature:\n",
    "sns.distplot(df[np.isfinite(df.AdjustedCompensation)].AdjustedCompensation)"
   ]
  },
  {
   "cell_type": "code",
   "execution_count": 27,
   "metadata": {},
   "outputs": [
    {
     "data": {
      "text/plain": [
       "count    4.343000e+03\n",
       "mean     6.636071e+06\n",
       "std      4.293996e+08\n",
       "min     -7.351631e+01\n",
       "25%      2.036942e+04\n",
       "50%      5.381217e+04\n",
       "75%      9.566608e+04\n",
       "max      2.829740e+10\n",
       "Name: AdjustedCompensation, dtype: float64"
      ]
     },
     "execution_count": 27,
     "metadata": {},
     "output_type": "execute_result"
    }
   ],
   "source": [
    "# A look at the statistics for the feature\n",
    "df.AdjustedCompensation.describe()"
   ]
  },
  {
   "cell_type": "code",
   "execution_count": 108,
   "metadata": {},
   "outputs": [
    {
     "data": {
      "text/plain": [
       "<matplotlib.axes._subplots.AxesSubplot at 0x26d1a112d08>"
      ]
     },
     "execution_count": 108,
     "metadata": {},
     "output_type": "execute_result"
    },
    {
     "data": {
      "image/png": "[encoded data removed]",
      "text/plain": [
       "<Figure size 432x288 with 1 Axes>"
      ]
     },
     "metadata": {},
     "output_type": "display_data"
    }
   ],
   "source": [
    "# Adjusting range for better visualization of income distribution without the last quantile\n",
    "sns.distplot(df.AdjustedCompensation.loc[df.AdjustedCompensation < 10e+4])"
   ]
  },
  {
   "cell_type": "code",
   "execution_count": 35,
   "metadata": {},
   "outputs": [],
   "source": [
    "from scipy.stats import skew, kurtosis "
   ]
  },
  {
   "cell_type": "code",
   "execution_count": 33,
   "metadata": {},
   "outputs": [
    {
     "data": {
      "text/plain": [
       "0.28286144505864796"
      ]
     },
     "execution_count": 33,
     "metadata": {},
     "output_type": "execute_result"
    }
   ],
   "source": [
    "skew(df.AdjustedCompensation.loc[df.AdjustedCompensation < 10e+4])"
   ]
  },
  {
   "cell_type": "code",
   "execution_count": 18,
   "metadata": {},
   "outputs": [],
   "source": [
    "from flatiron_stats import *"
   ]
  },
  {
   "cell_type": "code",
   "execution_count": 58,
   "metadata": {},
   "outputs": [],
   "source": [
    "# Setting up the groups, filtering out rows with NaNs for AdjustedCompensation:\n",
    "bachelors = df[np.isfinite(df.AdjustedCompensation)].loc[df.FormalEducation == \"Bachelor's degree\"]\n",
    "masters = df[np.isfinite(df.AdjustedCompensation)].loc[df.FormalEducation == \"Master's degree\"]"
   ]
  },
  {
   "cell_type": "code",
   "execution_count": 113,
   "metadata": {},
   "outputs": [
    {
     "data": {
      "text/plain": [
       "Text(0.5, 1.0, \"Master's Degree Holders\")"
      ]
     },
     "execution_count": 113,
     "metadata": {},
     "output_type": "execute_result"
    },
    {
     "data": {
      "image/png": "[encoded data removed]",
      "text/plain": [
       "<Figure size 1008x504 with 2 Axes>"
      ]
     },
     "metadata": {},
     "output_type": "display_data"
    }
   ],
   "source": [
    "fig = plt.figure(figsize = (14,7))\n",
    "\n",
    "ax1 = fig.add_subplot(121)\n",
    "ax1 = bachelors.AdjustedCompensation.hist()\n",
    "ax1.set_title(\"Bachelor's Degree Holders\")\n",
    "\n",
    "ax2 = fig.add_subplot(122)\n",
    "ax2 = masters.AdjustedCompensation.hist()\n",
    "ax2.set_title(\"Master's Degree Holders\")"
   ]
  },
  {
   "cell_type": "code",
   "execution_count": 107,
   "metadata": {},
   "outputs": [
    {
     "name": "stdout",
     "output_type": "stream",
     "text": [
      "Mean Values:\n",
      "Bachelors: 64887.09799461879\n",
      "Masters: 69139.89987120005\n",
      "\n",
      "P-value for null hypothesis that means are the same:\n",
      "0.33077639451272267\n"
     ]
    }
   ],
   "source": [
    "# Performing a two-sample welch's t-test without removing outliers:\n",
    "print(\"Mean Values:\")\n",
    "print(\"Bachelors:\", bachelors.AdjustedCompensation.mean())\n",
    "print(\"Masters:\", masters.AdjustedCompensation.mean())\n",
    "\n",
    "print(\"\\nP-value for null hypothesis that means are the same:\")\n",
    "print(p_value_welch_ttest(bachelors.AdjustedCompensation, masters.AdjustedCompensation))"
   ]
  },
  {
   "cell_type": "code",
   "execution_count": null,
   "metadata": {},
   "outputs": [],
   "source": [
    "# The groups do not appear to be statistically different with the outliers left in\n",
    "# Trying the test again with outliers removed\n",
    "\n",
    "# First to remove the outliers..."
   ]
  },
  {
   "cell_type": "code",
   "execution_count": 65,
   "metadata": {},
   "outputs": [],
   "source": [
    "import seaborn as sns"
   ]
  },
  {
   "cell_type": "code",
   "execution_count": 71,
   "metadata": {},
   "outputs": [
    {
     "data": {
      "image/png": "[encoded data removed]",
      "text/plain": [
       "<Figure size 1008x648 with 2 Axes>"
      ]
     },
     "metadata": {},
     "output_type": "display_data"
    }
   ],
   "source": [
    "# Using seaborn boxplots to visualize the distributions and their outliers:\n",
    "fig = plt.figure(figsize = (14,9))\n",
    "\n",
    "ax1 = fig.add_subplot(211)\n",
    "ax1 = sns.boxplot(x=bachelors.AdjustedCompensation)\n",
    "ax1.set_title(\"Bachelor's Degree Holders\")\n",
    "\n",
    "ax2 = fig.add_subplot(212)\n",
    "ax2 = sns.boxplot(x=masters.AdjustedCompensation)\n",
    "ax2.set_title(\"Master's Degree Holders\")\n",
    "\n",
    "fig.tight_layout()"
   ]
  },
  {
   "cell_type": "code",
   "execution_count": 77,
   "metadata": {},
   "outputs": [
    {
     "data": {
      "image/png": "[encoded data removed]",
      "text/plain": [
       "<Figure size 1008x648 with 2 Axes>"
      ]
     },
     "metadata": {},
     "output_type": "display_data"
    }
   ],
   "source": [
    "# I don't want to take all of the higher values out, lets try some conservative cuts at 700000,\n",
    "# which seems like a good cut for both, and really only cuts out extremely high earners\n",
    "bachelors2 = bachelors.loc[bachelors.AdjustedCompensation < 700000]\n",
    "masters2 = masters.loc[masters.AdjustedCompensation < 700000]\n",
    "\n",
    "fig = plt.figure(figsize = (14,9))\n",
    "\n",
    "ax1 = fig.add_subplot(211)\n",
    "ax1 = sns.boxplot(x=bachelors2.AdjustedCompensation)\n",
    "ax1.set_title(\"Bachelor's Degree Holders\")\n",
    "\n",
    "ax2 = fig.add_subplot(212)\n",
    "ax2 = sns.boxplot(x=masters2.AdjustedCompensation)\n",
    "ax2.set_title(\"Master's Degree Holders\")\n",
    "\n",
    "fig.tight_layout()"
   ]
  },
  {
   "cell_type": "code",
   "execution_count": 93,
   "metadata": {},
   "outputs": [
    {
     "name": "stdout",
     "output_type": "stream",
     "text": [
      "Mean Values:\n",
      "Bachelors: 54193.85731887952\n",
      "Masters: 64244.46160306552\n",
      "\n",
      "P-value for null hypothesis that means are the same:\n",
      "1.407911675466167e-06\n"
     ]
    }
   ],
   "source": [
    "# We can see that removing these outliers has drastically reduced the p-value to statistical\n",
    "# significance\n",
    "print(\"Mean Values:\")\n",
    "print(\"Bachelors:\", bachelors2.AdjustedCompensation.mean())\n",
    "print(\"Masters:\", masters2.AdjustedCompensation.mean())\n",
    "\n",
    "print(\"\\nP-value for null hypothesis that means are the same:\")\n",
    "print(p_value_welch_ttest(bachelors2.AdjustedCompensation, masters2.AdjustedCompensation))"
   ]
  },
  {
   "cell_type": "code",
   "execution_count": 79,
   "metadata": {},
   "outputs": [
    {
     "name": "stdout",
     "output_type": "stream",
     "text": [
      "Outliers removed from Bachelor's group: 3\n",
      "Outliers removed from Master's group: 4\n"
     ]
    }
   ],
   "source": [
    "# How many outliers were removed?\n",
    "print(\"Outliers removed from Bachelor's group:\", len(bachelors)-len(bachelors2))\n",
    "print(\"Outliers removed from Master's group:\", len(masters)-len(masters2))"
   ]
  },
  {
   "cell_type": "code",
   "execution_count": null,
   "metadata": {},
   "outputs": [],
   "source": [
    "# We can see that removing just a few extreme outliers from each group has drastically affected\n",
    "# the results of our statistical test. People holding Master's degrees will be pleased to know \n",
    "# that apart from a few exceptionally high earners, they are part of a group which earns a \n",
    "# statistically higher average sum than their Bachelor's degree holding counterparts."
   ]
  },
  {
   "cell_type": "markdown",
   "metadata": {},
   "source": [
    "\n",
    "\n",
    "## Wages and Education II\n",
    "\n",
    "Now perform a similar statistical test comparing the AdjustedCompensation of those with Bachelor's degrees and those with Doctorates. If you haven't already, be sure to explore the distribution of the AdjustedCompensation feature for any anomalies. "
   ]
  },
  {
   "cell_type": "code",
   "execution_count": 106,
   "metadata": {},
   "outputs": [
    {
     "name": "stdout",
     "output_type": "stream",
     "text": [
      "Number of Doctors before removing outliers: 967\n"
     ]
    },
    {
     "data": {
      "image/png": "[encoded data removed]",
      "text/plain": [
       "<Figure size 864x360 with 1 Axes>"
      ]
     },
     "metadata": {},
     "output_type": "display_data"
    }
   ],
   "source": [
    "doctors = df[np.isfinite(df.AdjustedCompensation)].loc[df.FormalEducation == 'Doctoral degree']\n",
    "print(\"Number of Doctors before removing outliers:\", len(doctors))\n",
    "fig = plt.figure(figsize=(12,5))\n",
    "sns.boxplot(x=doctors.AdjustedCompensation)\n",
    "plt.title(\"Doctors without outliers removed\")\n",
    "plt.show()"
   ]
  },
  {
   "cell_type": "code",
   "execution_count": 100,
   "metadata": {},
   "outputs": [
    {
     "name": "stdout",
     "output_type": "stream",
     "text": [
      "Mean Values:\n",
      "   Bachelors: 64887.09799461879\n",
      "   Doctors: 29566175.76245311\n",
      "Sample Sizes with outliers:\n",
      "   Bachelors: 1107\n",
      "   Doctors: 967\n",
      "\n",
      "P-value for null hypothesis that means are the same:\n",
      "0.1568238199472023\n"
     ]
    }
   ],
   "source": [
    "# Performing two-sample welch's t-test on Bachelors and Doctors:\n",
    "print(\"Mean Values:\")\n",
    "print(\"   Bachelors:\", bachelors.AdjustedCompensation.mean())\n",
    "print(\"   Doctors:\", doctors.AdjustedCompensation.mean())\n",
    "print(\"Sample Sizes with outliers:\")\n",
    "print(\"   Bachelors:\", len(bachelors))\n",
    "print(\"   Doctors:\", len(doctors))\n",
    "print(\"\\nP-value for null hypothesis that means are the same:\")\n",
    "print(p_value_welch_ttest(bachelors.AdjustedCompensation, doctors.AdjustedCompensation))"
   ]
  },
  {
   "cell_type": "code",
   "execution_count": 101,
   "metadata": {},
   "outputs": [],
   "source": [
    "# Above we can see that despite the large difference between the means of the two groups, the \n",
    "# t-test still concludes that there is a ~16% probability that the two samples come from the \n",
    "# same underlying population. This is likely due to the large effects on variance/standard deviation \n",
    "# that these outliers cause. The much larger standard deviations suggest that the mean difference \n",
    "# would not be as extreme as it really is."
   ]
  },
  {
   "cell_type": "code",
   "execution_count": 102,
   "metadata": {},
   "outputs": [
    {
     "name": "stdout",
     "output_type": "stream",
     "text": [
      "Standard Devations with Outliers:\n",
      "   Bachelors: 306935.87238797836\n",
      "   Doctors: 909998082.3346782\n"
     ]
    }
   ],
   "source": [
    "print(\"Standard Devations with Outliers:\")\n",
    "print(\"   Bachelors:\", bachelors.AdjustedCompensation.std(ddof=1))\n",
    "print(\"   Doctors:\", doctors.AdjustedCompensation.std(ddof=1))"
   ]
  },
  {
   "cell_type": "code",
   "execution_count": 105,
   "metadata": {},
   "outputs": [
    {
     "name": "stdout",
     "output_type": "stream",
     "text": [
      "Number of Doctors after removing outliers: 964\n"
     ]
    },
    {
     "data": {
      "image/png": "[encoded data removed]",
      "text/plain": [
       "<Figure size 864x360 with 1 Axes>"
      ]
     },
     "metadata": {},
     "output_type": "display_data"
    }
   ],
   "source": [
    "doctors2 = doctors.loc[doctors.AdjustedCompensation < 1000000]\n",
    "\n",
    "print(\"Number of Doctors after removing outliers:\", len(doctors2))\n",
    "\n",
    "fig = plt.figure(figsize=(12,5))\n",
    "sns.boxplot(x=doctors2.AdjustedCompensation)\n",
    "plt.title(\"Doctors with outliers removed\")\n",
    "plt.show()"
   ]
  },
  {
   "cell_type": "code",
   "execution_count": 99,
   "metadata": {},
   "outputs": [
    {
     "name": "stdout",
     "output_type": "stream",
     "text": [
      "Mean Values:\n",
      "   Bachelors: 54193.85731887952\n",
      "   Doctors: 86194.98163085166\n",
      "Sample Sizes without outliers:\n",
      "   Bachelors: 1104\n",
      "   Doctors: 964\n",
      "\n",
      "P-value for null hypothesis that means are the same:\n",
      "0.0\n"
     ]
    }
   ],
   "source": [
    "# Performing two-sample welch's t-test on Bachelors and Doctors:\n",
    "print(\"Mean Values:\")\n",
    "print(\"   Bachelors:\", bachelors2.AdjustedCompensation.mean())\n",
    "print(\"   Doctors:\", doctors2.AdjustedCompensation.mean())\n",
    "print(\"Sample Sizes without outliers:\")\n",
    "print(\"   Bachelors:\", len(bachelors2))\n",
    "print(\"   Doctors:\", len(doctors2))\n",
    "print(\"\\nP-value for null hypothesis that means are the same:\")\n",
    "print(p_value_welch_ttest(bachelors2.AdjustedCompensation, doctors2.AdjustedCompensation))"
   ]
  },
  {
   "cell_type": "code",
   "execution_count": 103,
   "metadata": {},
   "outputs": [],
   "source": [
    "# We can see above that after removing outliers from both groups, the probability of the null \n",
    "# hypothesis of bachelors and doctors making the same amount on average being true is zero.\n",
    "# This is despite a much smaller difference in means after removing outliers, due to a significant\n",
    "# decrease in standard deviation for the samples"
   ]
  },
  {
   "cell_type": "code",
   "execution_count": 104,
   "metadata": {},
   "outputs": [
    {
     "name": "stdout",
     "output_type": "stream",
     "text": [
      "Standard Devations without Outliers:\n",
      "   Bachelors: 57243.197771301246\n",
      "   Doctors: 65298.89327263121\n"
     ]
    }
   ],
   "source": [
    "print(\"Standard Devations without Outliers:\")\n",
    "print(\"   Bachelors:\", bachelors2.AdjustedCompensation.std(ddof=1))\n",
    "print(\"   Doctors:\", doctors2.AdjustedCompensation.std(ddof=1))"
   ]
  },
  {
   "cell_type": "markdown",
   "metadata": {},
   "source": [
    "## Wages and Education III\n",
    "\n",
    "Remember the multiple comparisons problem; rather than continuing on like this, perform an ANOVA test between the various 'FormalEducation' categories and their relation to 'AdjustedCompensation'."
   ]
  },
  {
   "cell_type": "code",
   "execution_count": 95,
   "metadata": {},
   "outputs": [],
   "source": [
    "import statsmodels.api as sm\n",
    "from statsmodels.formula.api import ols"
   ]
  },
  {
   "cell_type": "code",
   "execution_count": 98,
   "metadata": {},
   "outputs": [
    {
     "name": "stdout",
     "output_type": "stream",
     "text": [
      "                          sum_sq      df         F    PR(>F)\n",
      "C(FormalEducation)  6.540294e+17     6.0  0.590714  0.738044\n",
      "Residual            7.999414e+20  4335.0       NaN       NaN\n"
     ]
    }
   ],
   "source": [
    "# Run ANOVA test with outliers left in:\n",
    "formula = 'AdjustedCompensation ~ C(FormalEducation)'\n",
    "lm = ols(formula, df).fit()\n",
    "table = sm.stats.anova_lm(lm, typ=2)\n",
    "print(table)"
   ]
  },
  {
   "cell_type": "code",
   "execution_count": null,
   "metadata": {},
   "outputs": [],
   "source": [
    "# We can see in the cell above that without removing outliers, the ANOVA test shows us a high \n",
    "# probability that the different education groups come from the same underlying population."
   ]
  },
  {
   "cell_type": "code",
   "execution_count": 97,
   "metadata": {},
   "outputs": [
    {
     "name": "stdout",
     "output_type": "stream",
     "text": [
      "                          sum_sq      df        F        PR(>F)\n",
      "C(FormalEducation)  5.604207e+11     6.0  26.3367  5.934110e-31\n",
      "Residual            1.533158e+13  4323.0      NaN           NaN\n"
     ]
    }
   ],
   "source": [
    "# Run ANOVA test with outliers removed:\n",
    "formula = 'AdjustedCompensation ~ C(FormalEducation)'\n",
    "df_trim = df.loc[df.AdjustedCompensation < 700000]\n",
    "lm = ols(formula, df_trim).fit()\n",
    "table = sm.stats.anova_lm(lm, typ=2)\n",
    "print(table)"
   ]
  },
  {
   "cell_type": "code",
   "execution_count": null,
   "metadata": {},
   "outputs": [],
   "source": [
    "# We can see in the cell above that the ANOVA test, once outliers are removed, agrees with the \n",
    "# previous tests in that it finds differences in variance between the different FormalEducation \n",
    "# groups to indicate that they are not part of the same populations of earners."
   ]
  },
  {
   "cell_type": "markdown",
   "metadata": {},
   "source": [
    "## Additional Resources\n",
    "\n",
    "Here's the original source where the data was taken from:  \n",
    "    [Kaggle Machine Learning & Data Science Survey 2017](https://www.kaggle.com/kaggle/kaggle-survey-2017)"
   ]
  },
  {
   "cell_type": "markdown",
   "metadata": {},
   "source": [
    "## Summary\n",
    "\n",
    "In this lab, you practiced conducting actual hypothesis tests on actual data. From this, you saw how dependent results can be on the initial problem formulation, including preprocessing!"
   ]
  }
 ],
 "metadata": {
  "kernelspec": {
   "display_name": "Python 3",
   "language": "python",
   "name": "python3"
  },
  "language_info": {
   "codemirror_mode": {
    "name": "ipython",
    "version": 3
   },
   "file_extension": ".py",
   "mimetype": "text/x-python",
   "name": "python",
   "nbconvert_exporter": "python",
   "pygments_lexer": "ipython3",
   "version": "3.7.4"
  },
  "toc": {
   "base_numbering": 1,
   "nav_menu": {},
   "number_sections": true,
   "sideBar": true,
   "skip_h1_title": false,
   "title_cell": "Table of Contents",
   "title_sidebar": "Contents",
   "toc_cell": false,
   "toc_position": {},
   "toc_section_display": true,
   "toc_window_display": false
  }
 },
 "nbformat": 4,
 "nbformat_minor": 2
}
